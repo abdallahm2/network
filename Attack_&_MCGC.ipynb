{
  "nbformat": 4,
  "nbformat_minor": 0,
  "metadata": {
    "colab": {
      "name": "Attack & MCGC.ipynb",
      "provenance": [],
      "include_colab_link": true
    },
    "kernelspec": {
      "name": "python3",
      "display_name": "Python 3"
    }
  },
  "cells": [
    {
      "cell_type": "markdown",
      "metadata": {
        "id": "view-in-github",
        "colab_type": "text"
      },
      "source": [
        "<a href=\"https://colab.research.google.com/github/abdallahm2/network/blob/master/Attack_%26_MCGC.ipynb\" target=\"_parent\"><img src=\"https://colab.research.google.com/assets/colab-badge.svg\" alt=\"Open In Colab\"/></a>"
      ]
    },
    {
      "cell_type": "code",
      "metadata": {
        "id": "GZDCBUUWGnzU",
        "colab_type": "code",
        "colab": {}
      },
      "source": [
        "phiB=0.4\n",
        "fa=0.1"
      ],
      "execution_count": 0,
      "outputs": []
    },
    {
      "cell_type": "markdown",
      "metadata": {
        "id": "VQ0ok4ofb5RT",
        "colab_type": "text"
      },
      "source": [
        "## **ER Network**"
      ]
    },
    {
      "cell_type": "code",
      "metadata": {
        "id": "bDPa7qeb1wMk",
        "colab_type": "code",
        "outputId": "af3f47cf-890f-44b7-8ce4-805d8cae0b0a",
        "colab": {
          "base_uri": "https://localhost:8080/",
          "height": 34
        }
      },
      "source": [
        "import matplotlib.pyplot as plt\n",
        "import networkx as nx\n",
        "ER=nx.fast_gnp_random_graph(1000,0.004)\n",
        "MER=len(ER.edges)\n",
        "print(MER)"
      ],
      "execution_count": 25,
      "outputs": [
        {
          "output_type": "stream",
          "text": [
            "2034\n"
          ],
          "name": "stdout"
        }
      ]
    },
    {
      "cell_type": "code",
      "metadata": {
        "id": "FbOJ-B4R1-vY",
        "colab_type": "code",
        "colab": {}
      },
      "source": [
        "dER=[i[1] for i in list(ER.degree)]"
      ],
      "execution_count": 0,
      "outputs": []
    },
    {
      "cell_type": "code",
      "metadata": {
        "colab_type": "code",
        "outputId": "0298fcab-781f-4eaf-9d96-d1d36ceb025c",
        "id": "0l09tvyIg0Yf",
        "colab": {
          "base_uri": "https://localhost:8080/",
          "height": 52
        }
      },
      "source": [
        "import statistics as st\n",
        "print('median = {}' .format(st.median(dER)))\n",
        "print('mean = {}' .format(st.mean(dER)))"
      ],
      "execution_count": 3,
      "outputs": [
        {
          "output_type": "stream",
          "text": [
            "median = 4.0\n",
            "mean = 3.956\n"
          ],
          "name": "stdout"
        }
      ]
    },
    {
      "cell_type": "markdown",
      "metadata": {
        "id": "_W5h1Sa4hdWM",
        "colab_type": "text"
      },
      "source": [
        "## **BA Network**"
      ]
    },
    {
      "cell_type": "code",
      "metadata": {
        "id": "4KOd33IS1FI_",
        "colab_type": "code",
        "outputId": "a83e21e0-ba4c-4b57-c8c5-3630bc1e48e2",
        "colab": {
          "base_uri": "https://localhost:8080/",
          "height": 34
        }
      },
      "source": [
        "import matplotlib.pyplot as plt\n",
        "import networkx as nx\n",
        "BA=nx.barabasi_albert_graph(1000,2)\n",
        "MBA=len(BA.edges)\n",
        "print(MBA)"
      ],
      "execution_count": 28,
      "outputs": [
        {
          "output_type": "stream",
          "text": [
            "1996\n"
          ],
          "name": "stdout"
        }
      ]
    },
    {
      "cell_type": "code",
      "metadata": {
        "id": "Zx3TPd0807RJ",
        "colab_type": "code",
        "colab": {}
      },
      "source": [
        "dBA=[i[1] for i in list(BA.degree)]"
      ],
      "execution_count": 0,
      "outputs": []
    },
    {
      "cell_type": "code",
      "metadata": {
        "id": "ZptmQLShhqSm",
        "colab_type": "code",
        "outputId": "5b6c6086-5f32-4935-ddad-c6908096fda3",
        "colab": {
          "base_uri": "https://localhost:8080/",
          "height": 52
        }
      },
      "source": [
        "import statistics as st\n",
        "print('median = {}' .format(st.median(dBA)))\n",
        "print('mean = {}' .format(st.mean(dBA)))"
      ],
      "execution_count": 6,
      "outputs": [
        {
          "output_type": "stream",
          "text": [
            "median = 3.0\n",
            "mean = 3.992\n"
          ],
          "name": "stdout"
        }
      ]
    },
    {
      "cell_type": "markdown",
      "metadata": {
        "colab_type": "text",
        "id": "9V7ZYR6gu8MV"
      },
      "source": [
        "**Calculating MCGC**"
      ]
    },
    {
      "cell_type": "code",
      "metadata": {
        "id": "5Hrc5BM3vASm",
        "colab_type": "code",
        "colab": {}
      },
      "source": [
        "MCGC"
      ],
      "execution_count": 0,
      "outputs": []
    },
    {
      "cell_type": "markdown",
      "metadata": {
        "id": "YN0036hBqSV1",
        "colab_type": "text"
      },
      "source": [
        "# **Attack**"
      ]
    },
    {
      "cell_type": "markdown",
      "metadata": {
        "id": "P3gFaKfutCdp",
        "colab_type": "text"
      },
      "source": [
        "**Adding M/2 to the graph based on LIDD**"
      ]
    },
    {
      "cell_type": "code",
      "metadata": {
        "id": "UNS7j025qX6o",
        "colab_type": "code",
        "colab": {
          "base_uri": "https://localhost:8080/",
          "height": 34
        },
        "outputId": "c203ae27-87c4-4b9c-ff44-99d8c4a88662"
      },
      "source": [
        "M=fa*(MER+MBA)\n",
        "print(M)"
      ],
      "execution_count": 32,
      "outputs": [
        {
          "output_type": "stream",
          "text": [
            "403.0\n"
          ],
          "name": "stdout"
        }
      ]
    },
    {
      "cell_type": "code",
      "metadata": {
        "id": "7_mPl12f4gK_",
        "colab_type": "code",
        "outputId": "887e8f7f-a403-44b8-ef81-82a85dd0055e",
        "colab": {
          "base_uri": "https://localhost:8080/",
          "height": 54
        }
      },
      "source": [
        "import numpy as np\n",
        "IDD = abs(np.subtract(dBA, dER))\n",
        "LIDD= min(IDD)\n",
        "indxLIDD = sorted(range(len(IDD)), key=lambda k: IDD[k])\n",
        "print(indxLIDD)\n"
      ],
      "execution_count": 7,
      "outputs": [
        {
          "output_type": "stream",
          "text": [
            "[30, 46, 111, 115, 125, 142, 149, 162, 191, 198, 199, 209, 249, 253, 255, 273, 283, 285, 288, 291, 294, 296, 299, 303, 308, 319, 330, 331, 336, 350, 355, 364, 380, 383, 385, 390, 400, 401, 403, 405, 408, 410, 411, 415, 422, 425, 429, 432, 440, 450, 454, 460, 468, 473, 477, 479, 491, 495, 504, 506, 511, 512, 514, 515, 520, 524, 528, 532, 534, 540, 542, 545, 547, 551, 553, 570, 571, 579, 580, 587, 588, 590, 599, 604, 606, 608, 613, 624, 625, 630, 633, 634, 635, 645, 663, 664, 667, 672, 673, 687, 690, 699, 703, 710, 716, 718, 720, 726, 728, 744, 752, 759, 776, 779, 783, 796, 797, 814, 820, 823, 824, 835, 839, 844, 848, 851, 852, 853, 870, 884, 888, 894, 901, 916, 919, 935, 939, 940, 951, 952, 954, 968, 978, 993, 996, 998, 24, 26, 27, 33, 35, 42, 44, 48, 58, 71, 72, 80, 87, 88, 90, 96, 99, 100, 101, 103, 107, 108, 120, 121, 123, 128, 145, 152, 158, 159, 164, 166, 172, 173, 174, 178, 183, 190, 197, 208, 212, 213, 215, 221, 223, 224, 225, 226, 231, 232, 236, 238, 240, 241, 242, 244, 248, 250, 257, 265, 266, 267, 269, 277, 280, 284, 295, 298, 301, 306, 307, 309, 310, 313, 316, 322, 323, 324, 332, 333, 337, 340, 348, 352, 354, 356, 357, 369, 378, 379, 381, 382, 384, 386, 387, 391, 394, 397, 409, 414, 426, 427, 428, 430, 431, 435, 438, 439, 441, 445, 449, 452, 458, 459, 467, 469, 471, 474, 475, 476, 478, 480, 482, 484, 487, 488, 489, 497, 499, 500, 503, 510, 517, 519, 530, 531, 537, 541, 544, 546, 548, 552, 554, 556, 557, 560, 561, 562, 563, 566, 569, 573, 574, 577, 578, 581, 585, 586, 592, 594, 597, 601, 605, 609, 610, 611, 612, 621, 629, 631, 640, 641, 646, 650, 652, 653, 657, 660, 662, 665, 674, 685, 691, 693, 697, 698, 700, 704, 709, 711, 712, 714, 717, 725, 732, 735, 751, 753, 755, 757, 760, 761, 766, 767, 772, 785, 787, 792, 793, 799, 805, 806, 807, 811, 827, 837, 850, 854, 855, 859, 860, 862, 864, 865, 866, 868, 873, 874, 875, 876, 880, 883, 887, 889, 891, 893, 897, 904, 913, 914, 925, 926, 931, 937, 942, 945, 947, 948, 950, 953, 955, 962, 973, 981, 983, 984, 994, 997, 999, 0, 43, 64, 67, 73, 75, 84, 93, 95, 113, 114, 118, 127, 129, 135, 137, 141, 144, 146, 147, 148, 151, 154, 165, 169, 170, 171, 185, 186, 188, 189, 192, 194, 195, 201, 202, 203, 218, 219, 220, 222, 227, 228, 233, 235, 237, 239, 243, 245, 246, 247, 254, 263, 270, 275, 279, 281, 286, 287, 292, 297, 302, 305, 318, 320, 326, 328, 338, 341, 343, 344, 346, 347, 351, 353, 359, 361, 362, 363, 365, 368, 372, 374, 377, 388, 395, 396, 398, 402, 406, 407, 416, 417, 418, 421, 423, 436, 444, 446, 447, 448, 451, 453, 462, 472, 481, 483, 485, 492, 494, 496, 507, 513, 518, 522, 525, 526, 529, 535, 538, 550, 555, 567, 568, 572, 576, 595, 598, 600, 602, 607, 614, 615, 618, 620, 623, 637, 648, 649, 655, 659, 668, 669, 679, 681, 682, 683, 684, 686, 688, 692, 694, 695, 705, 707, 719, 721, 722, 723, 724, 727, 730, 733, 734, 740, 743, 747, 754, 765, 768, 769, 770, 773, 781, 784, 788, 790, 794, 801, 804, 808, 809, 810, 817, 829, 832, 834, 836, 840, 843, 845, 849, 856, 861, 863, 871, 877, 878, 881, 885, 890, 892, 895, 896, 899, 903, 906, 907, 908, 910, 917, 920, 924, 930, 943, 956, 958, 960, 961, 964, 969, 974, 975, 976, 986, 987, 6, 19, 41, 47, 60, 69, 74, 86, 97, 102, 105, 106, 117, 130, 132, 133, 138, 150, 153, 155, 160, 168, 176, 182, 187, 200, 205, 216, 229, 230, 251, 252, 256, 258, 259, 261, 262, 272, 282, 300, 304, 311, 317, 325, 329, 335, 339, 342, 345, 349, 360, 366, 367, 370, 371, 375, 376, 389, 392, 399, 404, 412, 433, 434, 442, 443, 455, 464, 486, 498, 501, 505, 516, 521, 523, 549, 559, 583, 584, 589, 593, 627, 628, 632, 642, 647, 654, 661, 666, 670, 678, 689, 696, 706, 729, 736, 738, 739, 745, 746, 749, 750, 762, 771, 774, 777, 780, 786, 812, 813, 815, 819, 822, 825, 826, 846, 847, 857, 858, 867, 905, 912, 921, 922, 923, 934, 938, 941, 957, 966, 967, 970, 972, 979, 985, 992, 995, 23, 51, 52, 59, 61, 78, 109, 110, 122, 124, 143, 156, 157, 167, 184, 204, 207, 211, 214, 217, 264, 268, 271, 274, 276, 290, 293, 314, 315, 321, 327, 373, 420, 424, 461, 463, 465, 470, 493, 502, 509, 527, 533, 539, 575, 591, 619, 638, 639, 643, 644, 675, 676, 677, 680, 702, 708, 713, 715, 731, 741, 742, 748, 756, 763, 764, 775, 778, 782, 789, 795, 798, 800, 802, 803, 818, 821, 833, 842, 869, 872, 879, 886, 911, 927, 928, 932, 933, 946, 965, 977, 988, 990, 20, 31, 34, 40, 63, 77, 82, 83, 89, 91, 104, 112, 134, 139, 175, 177, 180, 196, 206, 210, 234, 260, 278, 289, 334, 358, 419, 437, 456, 466, 536, 543, 558, 564, 565, 582, 596, 603, 622, 656, 671, 701, 758, 791, 828, 838, 882, 902, 909, 918, 929, 944, 949, 959, 982, 991, 49, 54, 57, 65, 68, 126, 136, 140, 161, 179, 393, 490, 508, 616, 617, 626, 636, 737, 816, 900, 915, 936, 963, 971, 29, 37, 39, 70, 76, 98, 119, 131, 312, 413, 457, 658, 830, 831, 841, 898, 980, 11, 12, 25, 53, 62, 79, 116, 193, 651, 15, 38, 85, 92, 94, 163, 181, 989, 45, 55, 36, 56, 7, 13, 66, 81, 8, 16, 28, 50, 22, 9, 14, 32, 10, 18, 21, 17, 1, 2, 5, 3, 4]\n"
          ],
          "name": "stdout"
        }
      ]
    },
    {
      "cell_type": "markdown",
      "metadata": {
        "id": "YAfQDSDquEeS",
        "colab_type": "text"
      },
      "source": [
        "**Removing (N x phiER) from ER network and (N x phiBA) from BA network**"
      ]
    },
    {
      "cell_type": "code",
      "metadata": {
        "id": "5r--4RtKuRcT",
        "colab_type": "code",
        "colab": {}
      },
      "source": [
        ""
      ],
      "execution_count": 0,
      "outputs": []
    },
    {
      "cell_type": "markdown",
      "metadata": {
        "id": "PyRcjso2uiAO",
        "colab_type": "text"
      },
      "source": [
        "**Calculating MCGC**"
      ]
    },
    {
      "cell_type": "code",
      "metadata": {
        "id": "H3DNbLtjuqkq",
        "colab_type": "code",
        "colab": {}
      },
      "source": [
        ""
      ],
      "execution_count": 0,
      "outputs": []
    }
  ]
}