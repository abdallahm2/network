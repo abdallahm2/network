{
  "nbformat": 4,
  "nbformat_minor": 0,
  "metadata": {
    "colab": {
      "name": "network.ipynb",
      "provenance": [],
      "collapsed_sections": [],
      "toc_visible": true,
      "include_colab_link": true
    },
    "kernelspec": {
      "name": "python3",
      "display_name": "Python 3"
    }
  },
  "cells": [
    {
      "cell_type": "markdown",
      "metadata": {
        "id": "view-in-github",
        "colab_type": "text"
      },
      "source": [
        "<a href=\"https://colab.research.google.com/github/abdallahm2/network/blob/master/network.ipynb\" target=\"_parent\"><img src=\"https://colab.research.google.com/assets/colab-badge.svg\" alt=\"Open In Colab\"/></a>"
      ]
    },
    {
      "cell_type": "markdown",
      "metadata": {
        "id": "OKX-l9fgp2Un",
        "colab_type": "text"
      },
      "source": [
        "# **Simple duplex network using(networkx) lib**"
      ]
    },
    {
      "cell_type": "code",
      "metadata": {
        "id": "OmnU7eig5i9n",
        "colab_type": "code",
        "colab": {}
      },
      "source": [
        "import matplotlib.pyplot as plt\n",
        "import networkx as nx\n",
        "import numpy as np\n",
        "\n",
        "nodes=1000\n",
        "\n",
        "ER=nx.fast_gnp_random_graph(nodes,0.04)\n",
        "#nx.draw(ER, with_labels=True) \n",
        "BA=nx.barabasi_albert_graph(nodes,5)\n",
        "#nx.draw(BA, with_labels=True)"
      ],
      "execution_count": 0,
      "outputs": []
    },
    {
      "cell_type": "markdown",
      "metadata": {
        "id": "kEDH_obzs6R1",
        "colab_type": "text"
      },
      "source": [
        "### ER network to matrix"
      ]
    },
    {
      "cell_type": "code",
      "metadata": {
        "id": "Us-Z3nsSq2Zk",
        "colab_type": "code",
        "outputId": "2e0cc468-f446-4e73-8921-4ed3f6599d1d",
        "colab": {
          "base_uri": "https://localhost:8080/",
          "height": 139
        }
      },
      "source": [
        "a=nx.adj_matrix(ER)\n",
        "amat=a.toarray()\n",
        "print(amat)"
      ],
      "execution_count": 0,
      "outputs": [
        {
          "output_type": "stream",
          "text": [
            "[[0 0 0 ... 0 0 0]\n",
            " [0 0 0 ... 0 0 0]\n",
            " [0 0 0 ... 0 0 0]\n",
            " ...\n",
            " [0 0 0 ... 0 0 0]\n",
            " [0 0 0 ... 0 0 0]\n",
            " [0 0 0 ... 0 0 0]]\n"
          ],
          "name": "stdout"
        }
      ]
    },
    {
      "cell_type": "markdown",
      "metadata": {
        "id": "dVAF4EIPtGrB",
        "colab_type": "text"
      },
      "source": [
        "### BA network to matrix"
      ]
    },
    {
      "cell_type": "code",
      "metadata": {
        "id": "R0mgdFIZK1mj",
        "colab_type": "code",
        "outputId": "fa78b6af-673c-4cd0-b3e4-a2515cbcd738",
        "colab": {
          "base_uri": "https://localhost:8080/",
          "height": 139
        }
      },
      "source": [
        "b=nx.adj_matrix(BA)\n",
        "bmat=b.toarray()\n",
        "print(bmat)"
      ],
      "execution_count": 0,
      "outputs": [
        {
          "output_type": "stream",
          "text": [
            "[[0 0 0 ... 0 0 0]\n",
            " [0 0 0 ... 0 0 0]\n",
            " [0 0 0 ... 0 0 0]\n",
            " ...\n",
            " [0 0 0 ... 0 0 0]\n",
            " [0 0 0 ... 0 0 0]\n",
            " [0 0 0 ... 0 0 0]]\n"
          ],
          "name": "stdout"
        }
      ]
    },
    {
      "cell_type": "markdown",
      "metadata": {
        "id": "GSQA91GxtpuG",
        "colab_type": "text"
      },
      "source": [
        "### **Supra adjancency Matrix**"
      ]
    },
    {
      "cell_type": "code",
      "metadata": {
        "id": "S-kNjCs-vp6b",
        "colab_type": "code",
        "outputId": "df6ec297-9686-4e12-8531-3eccac2d0d37",
        "colab": {
          "base_uri": "https://localhost:8080/",
          "height": 407
        }
      },
      "source": [
        "ey=np.eye(nodes)\n",
        "z1=np.concatenate((amat,ey),axis=1)\n",
        "z2=np.concatenate((ey,bmat),axis=1)\n",
        "z=np.concatenate((z1,z2),axis=0).astype(int)\n",
        "print(z)\n",
        "import seaborn as sb\n",
        "heat_map = sb.heatmap(z)\n",
        "plt.show()"
      ],
      "execution_count": 0,
      "outputs": [
        {
          "output_type": "stream",
          "text": [
            "[[0 0 0 ... 0 0 0]\n",
            " [0 0 0 ... 0 0 0]\n",
            " [0 0 0 ... 0 0 0]\n",
            " ...\n",
            " [0 0 0 ... 0 0 0]\n",
            " [0 0 0 ... 0 0 0]\n",
            " [0 0 0 ... 0 0 0]]\n"
          ],
          "name": "stdout"
        },
        {
          "output_type": "display_data",
          "data": {
            "image/png": "[encoded data removed]",
            "text/plain": [
              "<Figure size 432x288 with 2 Axes>"
            ]
          },
          "metadata": {
            "tags": []
          }
        }
      ]
    },
    {
      "cell_type": "markdown",
      "metadata": {
        "id": "Vnj-MCfbkIT7",
        "colab_type": "text"
      },
      "source": [
        "# **Duplex Network using(Multiplex) lib**"
      ]
    },
    {
      "cell_type": "code",
      "metadata": {
        "id": "KjybPukskYwR",
        "colab_type": "code",
        "colab": {}
      },
      "source": [
        "\n"
      ],
      "execution_count": 0,
      "outputs": []
    }
  ]
}